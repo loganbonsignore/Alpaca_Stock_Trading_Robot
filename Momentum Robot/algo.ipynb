{
 "cells": [
  {
   "cell_type": "markdown",
   "metadata": {},
   "source": [
    "## Trading Algorithm Notes"
   ]
  },
  {
   "cell_type": "markdown",
   "metadata": {},
   "source": [
    "### Pairs Trading\n",
    "* If two securities are correlated, when they breakout from each other -> short the high one, buy the low one\n",
    "* When prices move back together, close position\n",
    "* Determine correlation using percent change and r-value"
   ]
  },
  {
   "cell_type": "markdown",
   "metadata": {},
   "source": [
    "### Momentum Strategies\n",
    "    * It is assumed price move will hold momentum for certain period or time\n",
    "    * High volatility == Vix > 25\n",
    "    * Use stop loss that follows the price upward and resets each time the stock price hits a new high\n",
    "    * Additional functionality:\n",
    "        1) Protect against downside moves with options trading\n",
    "            * Buy put options on long positions (only buy 1) after running certain amount higher than previous high\n",
    "            * Only buy when volatility is high\n",
    "#### Gap and Go\n",
    "    * Looks for overnight gappers and bets on continuation of that move\n",
    "    * Open Short-term long trade and use stop loss\n",
    "#### Earnings/News\n",
    "    * Look at the most well known/liquid stocks that had earnings in the past few days\n",
    "    * Focus on stocks that have an especially negative reaction from the market (-2%)\n",
    "    * Open long position and use stop loss\n",
    "#### Breakout Strategy\n",
    "    * Look at past highs and generate buy signals as soon as price manages to break out from its previous high\n",
    "    * Use dynamic lookback ranges based on volatility\n",
    "        * When volatility is high, look further back\n",
    "        * When low, look less\n",
    "    * Open short-term long position and use stop loss"
   ]
  },
  {
   "cell_type": "markdown",
   "metadata": {},
   "source": [
    "### Moving Avg Strategys\n",
    "#### Look for rollovers\n",
    "    * If faster MA crosses slower MA in upward motion -> buy\n",
    "    * If faster MA crosses slower MA in downward motion -> sell\n",
    "        * Consider adding a momentum threshold so that it doesnt trade too often\n",
    "        * Momentum is identified by increasing distance between MA's\n",
    "    * Where does 8-bar MA come in?\n",
    "    * Decreases that trigger bearish moving average rollovers in multiple time frames offer short sale opportunity\n",
    "\n",
    "#### Look for sideways markets - causes SMA's to become less accurate\n",
    "    * Steady avg's\n",
    "    * Frequent crossovers\n",
    "    * High volatility, higher trading range    \n",
    "\n",
    "#### Taking profits\n",
    "    * Short sale - take profits when price lifts above 5-bar MA\n",
    "    * Long sale - take profits when price dips below 5-bar MA\n",
    "    \n",
    "#### Exponential MA\n",
    "    * multiplier = 2 ÷ (number of observations + 1)\n",
    "    * EMA = Closing price x multiplier + EMA (previous day) x (1-multiplier)\n",
    "    \n",
    "#### MACD\n",
    "* MACD=12-Period EMA − 26-Period EMA\n",
    "* A 9-period EMA of the MACD called the \"signal line,\" is then plotted on top of the MACD line as a trade indicator"
   ]
  },
  {
   "cell_type": "markdown",
   "metadata": {},
   "source": [
    "## Creating Trading Robot"
   ]
  },
  {
   "cell_type": "code",
   "execution_count": 1,
   "metadata": {},
   "outputs": [],
   "source": [
    "from config import Alpaca_key,Alpaca_secret_key,Alpaca_endpoint\n",
    "import alpaca_trade_api as tradeapi\n",
    "import pandas as pd\n",
    "\n",
    "# API Auth\n",
    "api = tradeapi.REST(Alpaca_key,Alpaca_secret_key,Alpaca_endpoint)"
   ]
  },
  {
   "cell_type": "markdown",
   "metadata": {},
   "source": [
    "### Universe Selection Object"
   ]
  },
  {
   "cell_type": "code",
   "execution_count": 2,
   "metadata": {},
   "outputs": [],
   "source": [
    "import time\n",
    "\n",
    "def get_price_dataframe(ticker=\"SPY\",length=\"5Min\",limit=100): # length= 1Min, 5Min, 15Min, or 1D\n",
    "    \"\"\"\n",
    "        Arguements:\n",
    "            ticker -> Stock ticker symobl (default SPY)\n",
    "            length -> Amount of time between bars (default 5Min)\n",
    "            limit -> Number of bars returned (default 100)\n",
    "            \n",
    "        Returns:\n",
    "        Returns a Pandas Dataframe of historical price data for any given ticker\n",
    "    \"\"\"\n",
    "    # Submitting request\n",
    "    barset=api.get_barset(ticker,length,limit)\n",
    "    # Creating Dataframe\n",
    "    data = pd.DataFrame()\n",
    "    for bar in barset[ticker]:\n",
    "        close=bar.c\n",
    "        open=bar.o\n",
    "        high=bar.h\n",
    "        low=bar.l\n",
    "        volume=bar.v\n",
    "        datetime=bar.t\n",
    "        if len(data) == 0:\n",
    "            index = [0]\n",
    "        else:\n",
    "            index = [max(data.index)+1]\n",
    "        new_row = pd.DataFrame({\n",
    "            \"date\":datetime,\n",
    "            \"open\":open,\n",
    "            \"high\":high,\n",
    "            \"low\":low,\n",
    "            \"close\":close,\n",
    "            \"volume\":volume}, index=index)\n",
    "        data = data.append(new_row)\n",
    "    return data\n",
    "\n",
    "def tradeable_technology_stocks():\n",
    "    \"\"\"\n",
    "        Returns:\n",
    "            List of technology sector ticker symbols that meet filter criteria\n",
    "\n",
    "        Notes:\n",
    "            Tickers are gathered from csv files of all Technology stocks that trade on Nasdaq and S&P 500 and meet filter criteria\n",
    "    \"\"\"\n",
    "    # Get Alpaca's stock list\n",
    "    assets = api.list_assets(\"active\", \"us_equity\")\n",
    "    # Filter for TRADEABLE, SHORTABLE on Alapaca's platform\n",
    "    assets = [asset for asset in assets if asset.tradable == True and asset.shortable == True]\n",
    "    alpaca_tradable_symbols = [asset.symbol for asset in assets]\n",
    "    # Filter for US EQUITY, TECHNOLOGY SECTOR, $2-$200 BILLION MARKET CAP, NASDAQ/S&P 500\n",
    "    SP_tech_stocks = pd.read_csv(\"S&P_500_tech_assets_barchart_dotcom.csv\")\n",
    "    nasdaq_tech_stocks = pd.read_csv(\"nasdaq_tech_assets_nasdaq_dotcom.csv\")\n",
    "    combined_tickers = pd.concat([SP_tech_stocks[\"Symbol\"], nasdaq_tech_stocks[\"Symbol\"]], ignore_index=True)\n",
    "    assets = [ticker for ticker in combined_tickers if ticker in alpaca_tradable_symbols]\n",
    "    # Returns list of ticker symbols\n",
    "    return assets\n",
    "\n",
    "def find_most_liquid_stocks(periods=10, num_returned=10, bar_frequency=\"1D\"):\n",
    "    \"\"\"\n",
    "        Arguements:\n",
    "            periods -> Number of prior days to use in avg volume calculation\n",
    "                 -> High Volatility: Look back further, Low Volatility: Look back less\n",
    "            N -> Number of ticker symbols to return\n",
    "            \n",
    "        Returns:\n",
    "            List of the most liquid ticker symbols that meet below criteria:\n",
    "                1) US Equity\n",
    "                2) In the Technology Sector\n",
    "                3) Trades on S&P 500 or Nasdaq Exchange\n",
    "                4) $2-$200 Billion Market Cap\n",
    "                5) Tradeable and Shortable on Alpaca's trading platform\n",
    "    \"\"\"\n",
    "    # Returns list of technology sector ticker symbols that meet filter criteria\n",
    "    tradable_stocks = tradeable_technology_stocks()\n",
    "    \n",
    "    # Finding the most liquid stocks by $ volume\n",
    "    stock_volumes = {}\n",
    "    count = 1\n",
    "    for ticker in tradable_stocks:\n",
    "        # Get prior 10 days of data\n",
    "        data = get_price_dataframe(ticker, bar_frequency, periods)\n",
    "        ################################# ADD OTHER FILTERS HERE ############################\n",
    "        # Add avg volume to dictionary\n",
    "        avg_10_day_volume = data[\"volume\"].mean()\n",
    "        stock_volumes[ticker] = avg_10_day_volume\n",
    "        count+=1\n",
    "        # Alpaca API limit is 200 calls per minute\n",
    "        if count == 180:\n",
    "            time.sleep(60)\n",
    "    # Sort the dictionary, and return the N most liquid stocks \n",
    "    return [(ticker) for ticker, volume in sorted(stock_volumes.items(), key=lambda item: item[1])][-num_returned:]"
   ]
  },
  {
   "cell_type": "markdown",
   "metadata": {},
   "source": [
    "### Alpha Object"
   ]
  },
  {
   "cell_type": "code",
   "execution_count": 3,
   "metadata": {},
   "outputs": [],
   "source": [
    "import numpy as np\n",
    "\n",
    "# Identifying 5 bar fractals (fractals remove noise of market swings to better identify key levels)\n",
    "    # A fractal is a candlestick pattern made by 5 candles. \n",
    "    # The third candle has the lowest low price, the previous candles have decreasing lows and the next candles have increasing lows.\n",
    "    # By this pattern, the low of the third candle is the support level.\n",
    "    # The same concept applies to resistance levels, where the third candle has the highest high of the five ones.\n",
    "def isSupport(df,i):\n",
    "    support = df['low'][i] < df['low'][i-1] and df['low'][i] < df['low'][i+1] and df['low'][i+1] < df['low'][i+2] and df['low'][i-1] < df['low'][i-2]\n",
    "    return support\n",
    "def isResistance(df,i):\n",
    "    resistance = df['high'][i] > df['high'][i-1]  and df['high'][i] > df['high'][i+1] and df['high'][i+1] > df['high'][i+2] and df['high'][i-1] > df['high'][i-2]\n",
    "    return resistance\n",
    "\n",
    "# Given a price value this function returns False if it is near a previously discovered key level.\n",
    "# A level is near a previously discovered key level if their distance is less than the average candle size (s) in our chart\n",
    "def isFarFromLevel(l, levels, s):\n",
    "    levels = [(index,level) for index,level,category in levels]\n",
    "    return np.sum([abs(l-x) < s  for x in levels]) == 0\n",
    "\n",
    "def get_key_levels(tickers_to_trade, lookback_periods = 100, bar_frequency = \"1D\"):\n",
    "    \"\"\"\n",
    "        Arguements:\n",
    "            stocks -> List of tickers to find support levels for\n",
    "            lookback_periods -> Number of bars to use when identifying key support levels\n",
    "            bar_frequency -> Frequency of candles ('5Min', '1D', etc.. Consult Alpaca API )\n",
    "    \"\"\"\n",
    "    key_levels = []\n",
    "\n",
    "    for ticker in tickers_to_trade:\n",
    "        df = get_price_dataframe(ticker, bar_frequency, lookback_periods)\n",
    "        # Getting messy levels, will filter later\n",
    "        levels = []\n",
    "        for i in range(2,len(df)-2):\n",
    "            if isSupport(df,i):\n",
    "                levels.append((i, df['low'][i], \"support\"))\n",
    "            elif isResistance(df,i):\n",
    "                levels.append((i ,df['high'][i], \"resistance\"))\n",
    "\n",
    "        # Average size of candlestick -> using later to check if already identified key levels that are similar\n",
    "        s =  np.mean(df['high'] - df['low'])\n",
    "\n",
    "        # Filtering levels to only unique levels\n",
    "        levels = []\n",
    "        for i in range(2,len(df)-2):\n",
    "            if isSupport(df,i):\n",
    "                l = df['low'][i]\n",
    "                # Filters out levels close to already discovered levels\n",
    "                if isFarFromLevel(l, levels, s):\n",
    "                    levels.append((i,l,\"support\"))\n",
    "            elif isResistance(df,i):\n",
    "                l = df['high'][i]\n",
    "                # Filters out levels close to already discovered levels\n",
    "                if isFarFromLevel(l, levels, s):\n",
    "                    levels.append((i,l,\"resistance\"))\n",
    "\n",
    "        support = [level for index, level, category in levels if category == \"support\"]\n",
    "        resistance = [level for index, level, category in levels if category == \"resistance\"]\n",
    "\n",
    "        # Adding to master list\n",
    "        key_levels.append({\"ticker\": ticker, \"support\": support,\"resistance\": resistance})\n",
    "    return key_levels\n",
    "\n",
    "def find_stocks_at_key_level(stocks_to_trade, proximity_threshold_percent = 2):\n",
    "    \"\"\"\n",
    "        Arguments:\n",
    "            stocks_to_trade -> List of stock elements. Each element is a dictionary with keys ('ticker': str, 'support': list, 'resistance': list)\n",
    "            proximity_threshold_percent -> percentage difference used to judge if current price is close to support level\n",
    "        \n",
    "        Returns:\n",
    "            stocks_at_support -> List of stock elements whose current price is within proximity_threshold_percent of support level\n",
    "            stocks_at_resistance -> List of stock elements whose current price is within proximity_threshold_percent of resistance level\n",
    "    \"\"\"\n",
    "    # Find if current price is near any of these resistance levels\n",
    "    stocks_at_support = []\n",
    "    stocks_at_resistance = []\n",
    "\n",
    "    for stock in stocks_to_trade:\n",
    "        # Get current price\n",
    "        quote = api.get_last_quote(stock[\"ticker\"])\n",
    "        current_price = np.mean([quote.bidprice, quote.askprice])\n",
    "\n",
    "        # Check if stock is near a support level\n",
    "        for level in stock[\"support\"]:\n",
    "            difference = ((current_price - level)/level)*100\n",
    "            # If stock is within 2% of a support level...\n",
    "            if difference < proximity_threshold_percent and difference > -proximity_threshold_percent:\n",
    "                near_support = True\n",
    "            else:\n",
    "                near_support = False\n",
    "\n",
    "        # Check if stock is near a resistance level\n",
    "        for level in stock[\"resistance\"]:\n",
    "            difference = ((current_price - level)/level)*100\n",
    "            # If stock is within 2% of a support level...\n",
    "            if difference < proximity_threshold_percent and difference > -proximity_threshold_percent:\n",
    "                near_resistance = True\n",
    "            else:\n",
    "                near_resistance = False\n",
    "\n",
    "        # Adding stocks near a key level to watch list\n",
    "        if near_support:\n",
    "            stocks_at_support.append(stock)\n",
    "        elif near_resistance:\n",
    "            stocks_at_resistance.append(stock)\n",
    "            \n",
    "    return stocks_at_support, stocks_at_resistance"
   ]
  },
  {
   "cell_type": "markdown",
   "metadata": {},
   "source": [
    "### Portfolio Object"
   ]
  },
  {
   "cell_type": "code",
   "execution_count": 4,
   "metadata": {},
   "outputs": [],
   "source": [
    "def is_market_open():\n",
    "    clock = api.get_clock()\n",
    "    if clock.is_open:\n",
    "        return True\n",
    "    else:\n",
    "        return False\n",
    "\n",
    "def is_account_blocked():\n",
    "    account = api.get_account()\n",
    "    if account.trading_blocked:\n",
    "        return True\n",
    "    else:\n",
    "        return False\n",
    "    \n",
    "def is_ticker_owned_already(ticker):\n",
    "    positions = api.list_positions()\n",
    "    for position in positions:\n",
    "        if position.symbol == ticker:\n",
    "            qty = int(position.qty)\n",
    "            if qty > 0:\n",
    "                return True, qty\n",
    "            elif qty < 0:\n",
    "                return True, abs(qty)\n",
    "    return False, 0\n",
    "\n",
    "def get_buying_power():\n",
    "    account = api.get_account()\n",
    "    buying_power = account.buying_power\n",
    "    return buying_power\n",
    "\n",
    "def any_open_positions():\n",
    "    positions = api.list_positions()\n",
    "    if positions:\n",
    "        return True     \n",
    "    else:\n",
    "        return False"
   ]
  },
  {
   "cell_type": "markdown",
   "metadata": {},
   "source": [
    "### Transaction Cost Object"
   ]
  },
  {
   "cell_type": "code",
   "execution_count": null,
   "metadata": {},
   "outputs": [],
   "source": []
  },
  {
   "cell_type": "markdown",
   "metadata": {},
   "source": [
    "### Risk Object"
   ]
  },
  {
   "cell_type": "code",
   "execution_count": null,
   "metadata": {},
   "outputs": [],
   "source": []
  },
  {
   "cell_type": "markdown",
   "metadata": {},
   "source": [
    "### Execution Object"
   ]
  },
  {
   "cell_type": "code",
   "execution_count": 5,
   "metadata": {},
   "outputs": [],
   "source": [
    "import random\n",
    "\n",
    "def buy_stock(symbol='SPY',qty=1,type='market',time_in_force='gtc'):\n",
    "    order_number = str(random.randint(100000000000,999999999999))\n",
    "    api.submit_order(\n",
    "        symbol=symbol,\n",
    "        qty=qty,\n",
    "        side='buy',\n",
    "        type=type,\n",
    "        time_in_force=time_in_force,\n",
    "        client_order_id=order_number)\n",
    "    return order_number\n",
    "\n",
    "def sell_stock(symbol='SPY',qty=1,type='market',time_in_force='gtc'):\n",
    "    order_number = str(random.randint(100000000000,999999999999))\n",
    "    api.submit_order(\n",
    "        symbol=symbol,\n",
    "        qty=qty,\n",
    "        side='sell',\n",
    "        type=type,\n",
    "        time_in_force=time_in_force,\n",
    "        client_order_id=order_number)\n",
    "    return order_number"
   ]
  },
  {
   "cell_type": "markdown",
   "metadata": {},
   "source": [
    "## Current Strategy: Momentum\n",
    "#### Breakout\n",
    "    * Look at past highs and generate buy signals as soon as price manages to break out from its previous high\n",
    "    * Use dynamic lookback ranges based on volatility\n",
    "        * When volatility is high, look further back\n",
    "        * When low, look less\n",
    "    * Open short-term long position and use stop loss\n",
    "#### Gap and Go\n",
    "    * Looks for overnight gappers and bets on continuation of that move\n",
    "    * Open Short-term long trade and use stop loss\n",
    "#### Earnings/News\n",
    "    * Look at the most well known/liquid stocks that had earnings in the past few days\n",
    "    * Focus on stocks that have an especially negative reaction from the market (-2%)\n",
    "    * Open long position and use stop loss"
   ]
  },
  {
   "cell_type": "markdown",
   "metadata": {},
   "source": [
    "## Algorithm Structure\n",
    "#### Universe Selection\n",
    "    * Which asset class? (US Stocks)\n",
    "    * Filters\n",
    "        * Liquidity (Top 10 by dollar Volume)\n",
    "        * Price (Too high or too low)\n",
    "        * Industry (Tech Stocks)\n",
    "#### Indicators\n",
    "    * Calculate trade signal\n",
    "    * Assign alpha scores to the securities that were passed from universe selection model\n",
    "    * Example: Directional assumption of security and confidence in prediction\n",
    "#### Portfolio \n",
    "    * Where trade signals from indicators are turned into a potential portfolio\n",
    "    * Decides how much capital to allocate to each position\n",
    "        * Same amount capital allocated to each trade signal\n",
    "        * Can allocate more to a specific trade based upon higher levels of confidence if known\n",
    "        * Doesnt allocate more than 75% of available funds\n",
    "#### Transaction Cost\n",
    "    * Account for transaction costs\n",
    "    * Can be included in execution or portfolio model\n",
    "    * Calculates\n",
    "        * Commissions\n",
    "        * Slippage\n",
    "        * Market Impact\n",
    "#### Risk\n",
    "    * Monitors portfolios risk, manages positions when necessary\n",
    "    * Example: Closes a position if down a certain percentage\n",
    "    * If the position P/L > 5% or P/L < -2% close position\n",
    "#### Execution\n",
    "    * Order size, order type, order time, order price, etc.\n",
    "    * Split large orders up into smaller orders over time?\n",
    "    * Market, limit or other order type\n",
    "    * Called every monday @ 10:00am\n",
    "        * Opens or closes positions based on information it recieves from portfolio and risk model    "
   ]
  },
  {
   "cell_type": "markdown",
   "metadata": {},
   "source": [
    "### Use This Area To Test Algorithm Improvements"
   ]
  },
  {
   "cell_type": "code",
   "execution_count": 13,
   "metadata": {},
   "outputs": [],
   "source": [
    "# Finding the most liquid stocks that fit our criteria\n",
    "stocks_to_trade_long = find_most_liquid_stocks(periods=10, num_returned=100, bar_frequency=\"1D\")\n",
    "\n",
    "# Calculating key levels of stocks to evaluate which stocks to trade\n",
    "key_levels = get_key_levels(stocks_to_trade_long, lookback_periods=100, bar_frequency='1D')\n",
    "\n",
    "# Filter out all stocks without calculated support or resistance levels\n",
    "stocks_to_trade = [stock for stock in key_levels if stock[\"support\"] and stock[\"resistance\"]]\n",
    "\n",
    "# Find stocks currently near a key level\n",
    "stocks_at_support, stocks_at_resistance = find_stocks_at_key_level(stocks_to_trade, proximity_threshold_percent=1)"
   ]
  },
  {
   "cell_type": "code",
   "execution_count": 14,
   "metadata": {},
   "outputs": [
    {
     "data": {
      "text/plain": [
       "2"
      ]
     },
     "execution_count": 14,
     "metadata": {},
     "output_type": "execute_result"
    }
   ],
   "source": [
    "# proximity_threshold_percent = 1\n",
    "len(stocks_at_support)"
   ]
  },
  {
   "cell_type": "code",
   "execution_count": 15,
   "metadata": {},
   "outputs": [
    {
     "data": {
      "text/plain": [
       "17"
      ]
     },
     "execution_count": 15,
     "metadata": {},
     "output_type": "execute_result"
    }
   ],
   "source": [
    "# proximity_threshold_percent = 1\n",
    "len(stocks_at_resistance)"
   ]
  },
  {
   "cell_type": "code",
   "execution_count": 10,
   "metadata": {},
   "outputs": [
    {
     "data": {
      "text/plain": [
       "4"
      ]
     },
     "execution_count": 10,
     "metadata": {},
     "output_type": "execute_result"
    }
   ],
   "source": [
    "# proximity_threshold_percent = 2\n",
    "len(stocks_at_support)"
   ]
  },
  {
   "cell_type": "code",
   "execution_count": 11,
   "metadata": {},
   "outputs": [
    {
     "data": {
      "text/plain": [
       "27"
      ]
     },
     "execution_count": 11,
     "metadata": {},
     "output_type": "execute_result"
    }
   ],
   "source": [
    "# proximity_threshold_percent = 2\n",
    "len(stocks_at_resistance)"
   ]
  },
  {
   "cell_type": "markdown",
   "metadata": {},
   "source": [
    "### Next Milestone in Project"
   ]
  },
  {
   "cell_type": "code",
   "execution_count": 9,
   "metadata": {},
   "outputs": [],
   "source": [
    "# 1) For stocks to watch\n",
    "    # If stock at resistance\n",
    "        # Watch for breakout to the upside, if significant upward move -> BUY w/ stop loss until next resistance level\n",
    "        # Watch for breakout to the downside -> SHORT w/ stop loss until closest support level\n",
    "\n",
    "    # If stock at support\n",
    "        # Watch for upside move, if significant upward move -> BUY w/ stop loss until next resistance level\n",
    "        # Watch for breakout to the downside -> SHORT w/ stop loss until closest support level\n",
    "\n",
    "# 2) For current positions\n",
    "    # Find if stock is near a key level\n",
    "    # If position at resistance\n",
    "        # Watch for breakout to the upside, if significant upward move -> BUY w/ stop loss until next resistance level\n",
    "        # Watch for breakout to the downside -> SHORT w/ stop loss until closest support level\n",
    "\n",
    "    # If position at support\n",
    "        # Watch for upside move, if significant upward move -> BUY w/ stop loss until next resistance level\n",
    "        # Watch for breakout to the downside -> SHORT w/ stop loss until closest support level\n",
    "    \n",
    "    # If neither, hold?"
   ]
  }
 ],
 "metadata": {
  "kernelspec": {
   "display_name": "Python 3",
   "language": "python",
   "name": "python3"
  },
  "language_info": {
   "codemirror_mode": {
    "name": "ipython",
    "version": 3
   },
   "file_extension": ".py",
   "mimetype": "text/x-python",
   "name": "python",
   "nbconvert_exporter": "python",
   "pygments_lexer": "ipython3",
   "version": "3.7.6"
  }
 },
 "nbformat": 4,
 "nbformat_minor": 4
}
